{
 "cells": [
  {
   "cell_type": "code",
   "execution_count": 1,
   "id": "fd3cf2eb",
   "metadata": {},
   "outputs": [],
   "source": [
    "import pandas as pd\n",
    "import numpy as np"
   ]
  },
  {
   "cell_type": "markdown",
   "id": "fe5de3f1",
   "metadata": {},
   "source": [
    "# Data Reading"
   ]
  },
  {
   "cell_type": "code",
   "execution_count": 2,
   "id": "8399f83c",
   "metadata": {},
   "outputs": [
    {
     "data": {
      "text/plain": [
       "0       According to Gran , the company has no plans t...\n",
       "1       Technopolis plans to develop in stages an area...\n",
       "2       The international electronic industry company ...\n",
       "3       With the new production plant the company woul...\n",
       "4       According to the company 's updated strategy f...\n",
       "                              ...                        \n",
       "4841    LONDON MarketWatch -- Share prices ended lower...\n",
       "4842    Rinkuskiai 's beer sales fell by 6.5 per cent ...\n",
       "4843    Operating profit fell to EUR 35.4 mn from EUR ...\n",
       "4844    Net sales of the Paper segment decreased to EU...\n",
       "4845    Sales in Finland decreased by 10.5 % in Januar...\n",
       "Name: 1, Length: 4846, dtype: object"
      ]
     },
     "execution_count": 2,
     "metadata": {},
     "output_type": "execute_result"
    }
   ],
   "source": [
    "Doc = pd.read_csv(\"archive/all-data.csv\",header=None)\n",
    "Doc\n",
    "lines = Doc[1]\n",
    "lines"
   ]
  },
  {
   "cell_type": "code",
   "execution_count": 3,
   "id": "e0daffef",
   "metadata": {},
   "outputs": [
    {
     "data": {
      "text/plain": [
       "array([[0.      , 0.      , 0.      , ..., 0.      , 0.      , 0.      ],\n",
       "       [0.      , 0.147059, 0.      , ..., 0.      , 0.      , 0.      ],\n",
       "       [0.      , 0.      , 0.      , ..., 0.      , 0.      , 0.      ],\n",
       "       ...,\n",
       "       [0.      , 0.      , 0.      , ..., 0.      , 0.      , 0.      ],\n",
       "       [0.      , 0.      , 0.      , ..., 0.      , 0.      , 0.      ],\n",
       "       [0.      , 0.      , 0.      , ..., 0.      , 0.      , 0.      ]])"
      ]
     },
     "execution_count": 3,
     "metadata": {},
     "output_type": "execute_result"
    }
   ],
   "source": [
    "from sklearn.feature_extraction.text import TfidfVectorizer\n",
    "vectorizer = TfidfVectorizer()\n",
    "X = vectorizer.fit_transform(lines)\n",
    "analyze = vectorizer.build_analyzer()\n",
    "#print(len(vectorizer.get_feature_names()))\n",
    "X.toarray()"
   ]
  },
  {
   "cell_type": "code",
   "execution_count": 4,
   "id": "e3cf47da",
   "metadata": {
    "scrolled": true
   },
   "outputs": [
    {
     "data": {
      "text/html": [
       "<div>\n",
       "<style scoped>\n",
       "    .dataframe tbody tr th:only-of-type {\n",
       "        vertical-align: middle;\n",
       "    }\n",
       "\n",
       "    .dataframe tbody tr th {\n",
       "        vertical-align: top;\n",
       "    }\n",
       "\n",
       "    .dataframe thead th {\n",
       "        text-align: right;\n",
       "    }\n",
       "</style>\n",
       "<table border=\"1\" class=\"dataframe\">\n",
       "  <thead>\n",
       "    <tr style=\"text-align: right;\">\n",
       "      <th></th>\n",
       "      <th>00</th>\n",
       "      <th>000</th>\n",
       "      <th>000063</th>\n",
       "      <th>002</th>\n",
       "      <th>0025</th>\n",
       "      <th>003</th>\n",
       "      <th>0030</th>\n",
       "      <th>007</th>\n",
       "      <th>008</th>\n",
       "      <th>01</th>\n",
       "      <th>...</th>\n",
       "      <th>zero</th>\n",
       "      <th>zgody</th>\n",
       "      <th>zinc</th>\n",
       "      <th>zip</th>\n",
       "      <th>zloty</th>\n",
       "      <th>zoltan</th>\n",
       "      <th>zone</th>\n",
       "      <th>zoo</th>\n",
       "      <th>zte</th>\n",
       "      <th>zu</th>\n",
       "    </tr>\n",
       "  </thead>\n",
       "  <tbody>\n",
       "    <tr>\n",
       "      <th>0</th>\n",
       "      <td>0.0</td>\n",
       "      <td>0.000000</td>\n",
       "      <td>0.0</td>\n",
       "      <td>0.0</td>\n",
       "      <td>0.0</td>\n",
       "      <td>0.0</td>\n",
       "      <td>0.0</td>\n",
       "      <td>0.0</td>\n",
       "      <td>0.0</td>\n",
       "      <td>0.0</td>\n",
       "      <td>...</td>\n",
       "      <td>0.0</td>\n",
       "      <td>0.0</td>\n",
       "      <td>0.0</td>\n",
       "      <td>0.0</td>\n",
       "      <td>0.0</td>\n",
       "      <td>0.0</td>\n",
       "      <td>0.0</td>\n",
       "      <td>0.0</td>\n",
       "      <td>0.0</td>\n",
       "      <td>0.0</td>\n",
       "    </tr>\n",
       "    <tr>\n",
       "      <th>1</th>\n",
       "      <td>0.0</td>\n",
       "      <td>0.147059</td>\n",
       "      <td>0.0</td>\n",
       "      <td>0.0</td>\n",
       "      <td>0.0</td>\n",
       "      <td>0.0</td>\n",
       "      <td>0.0</td>\n",
       "      <td>0.0</td>\n",
       "      <td>0.0</td>\n",
       "      <td>0.0</td>\n",
       "      <td>...</td>\n",
       "      <td>0.0</td>\n",
       "      <td>0.0</td>\n",
       "      <td>0.0</td>\n",
       "      <td>0.0</td>\n",
       "      <td>0.0</td>\n",
       "      <td>0.0</td>\n",
       "      <td>0.0</td>\n",
       "      <td>0.0</td>\n",
       "      <td>0.0</td>\n",
       "      <td>0.0</td>\n",
       "    </tr>\n",
       "    <tr>\n",
       "      <th>2</th>\n",
       "      <td>0.0</td>\n",
       "      <td>0.000000</td>\n",
       "      <td>0.0</td>\n",
       "      <td>0.0</td>\n",
       "      <td>0.0</td>\n",
       "      <td>0.0</td>\n",
       "      <td>0.0</td>\n",
       "      <td>0.0</td>\n",
       "      <td>0.0</td>\n",
       "      <td>0.0</td>\n",
       "      <td>...</td>\n",
       "      <td>0.0</td>\n",
       "      <td>0.0</td>\n",
       "      <td>0.0</td>\n",
       "      <td>0.0</td>\n",
       "      <td>0.0</td>\n",
       "      <td>0.0</td>\n",
       "      <td>0.0</td>\n",
       "      <td>0.0</td>\n",
       "      <td>0.0</td>\n",
       "      <td>0.0</td>\n",
       "    </tr>\n",
       "    <tr>\n",
       "      <th>3</th>\n",
       "      <td>0.0</td>\n",
       "      <td>0.000000</td>\n",
       "      <td>0.0</td>\n",
       "      <td>0.0</td>\n",
       "      <td>0.0</td>\n",
       "      <td>0.0</td>\n",
       "      <td>0.0</td>\n",
       "      <td>0.0</td>\n",
       "      <td>0.0</td>\n",
       "      <td>0.0</td>\n",
       "      <td>...</td>\n",
       "      <td>0.0</td>\n",
       "      <td>0.0</td>\n",
       "      <td>0.0</td>\n",
       "      <td>0.0</td>\n",
       "      <td>0.0</td>\n",
       "      <td>0.0</td>\n",
       "      <td>0.0</td>\n",
       "      <td>0.0</td>\n",
       "      <td>0.0</td>\n",
       "      <td>0.0</td>\n",
       "    </tr>\n",
       "    <tr>\n",
       "      <th>4</th>\n",
       "      <td>0.0</td>\n",
       "      <td>0.000000</td>\n",
       "      <td>0.0</td>\n",
       "      <td>0.0</td>\n",
       "      <td>0.0</td>\n",
       "      <td>0.0</td>\n",
       "      <td>0.0</td>\n",
       "      <td>0.0</td>\n",
       "      <td>0.0</td>\n",
       "      <td>0.0</td>\n",
       "      <td>...</td>\n",
       "      <td>0.0</td>\n",
       "      <td>0.0</td>\n",
       "      <td>0.0</td>\n",
       "      <td>0.0</td>\n",
       "      <td>0.0</td>\n",
       "      <td>0.0</td>\n",
       "      <td>0.0</td>\n",
       "      <td>0.0</td>\n",
       "      <td>0.0</td>\n",
       "      <td>0.0</td>\n",
       "    </tr>\n",
       "    <tr>\n",
       "      <th>...</th>\n",
       "      <td>...</td>\n",
       "      <td>...</td>\n",
       "      <td>...</td>\n",
       "      <td>...</td>\n",
       "      <td>...</td>\n",
       "      <td>...</td>\n",
       "      <td>...</td>\n",
       "      <td>...</td>\n",
       "      <td>...</td>\n",
       "      <td>...</td>\n",
       "      <td>...</td>\n",
       "      <td>...</td>\n",
       "      <td>...</td>\n",
       "      <td>...</td>\n",
       "      <td>...</td>\n",
       "      <td>...</td>\n",
       "      <td>...</td>\n",
       "      <td>...</td>\n",
       "      <td>...</td>\n",
       "      <td>...</td>\n",
       "      <td>...</td>\n",
       "    </tr>\n",
       "    <tr>\n",
       "      <th>4841</th>\n",
       "      <td>0.0</td>\n",
       "      <td>0.000000</td>\n",
       "      <td>0.0</td>\n",
       "      <td>0.0</td>\n",
       "      <td>0.0</td>\n",
       "      <td>0.0</td>\n",
       "      <td>0.0</td>\n",
       "      <td>0.0</td>\n",
       "      <td>0.0</td>\n",
       "      <td>0.0</td>\n",
       "      <td>...</td>\n",
       "      <td>0.0</td>\n",
       "      <td>0.0</td>\n",
       "      <td>0.0</td>\n",
       "      <td>0.0</td>\n",
       "      <td>0.0</td>\n",
       "      <td>0.0</td>\n",
       "      <td>0.0</td>\n",
       "      <td>0.0</td>\n",
       "      <td>0.0</td>\n",
       "      <td>0.0</td>\n",
       "    </tr>\n",
       "    <tr>\n",
       "      <th>4842</th>\n",
       "      <td>0.0</td>\n",
       "      <td>0.000000</td>\n",
       "      <td>0.0</td>\n",
       "      <td>0.0</td>\n",
       "      <td>0.0</td>\n",
       "      <td>0.0</td>\n",
       "      <td>0.0</td>\n",
       "      <td>0.0</td>\n",
       "      <td>0.0</td>\n",
       "      <td>0.0</td>\n",
       "      <td>...</td>\n",
       "      <td>0.0</td>\n",
       "      <td>0.0</td>\n",
       "      <td>0.0</td>\n",
       "      <td>0.0</td>\n",
       "      <td>0.0</td>\n",
       "      <td>0.0</td>\n",
       "      <td>0.0</td>\n",
       "      <td>0.0</td>\n",
       "      <td>0.0</td>\n",
       "      <td>0.0</td>\n",
       "    </tr>\n",
       "    <tr>\n",
       "      <th>4843</th>\n",
       "      <td>0.0</td>\n",
       "      <td>0.000000</td>\n",
       "      <td>0.0</td>\n",
       "      <td>0.0</td>\n",
       "      <td>0.0</td>\n",
       "      <td>0.0</td>\n",
       "      <td>0.0</td>\n",
       "      <td>0.0</td>\n",
       "      <td>0.0</td>\n",
       "      <td>0.0</td>\n",
       "      <td>...</td>\n",
       "      <td>0.0</td>\n",
       "      <td>0.0</td>\n",
       "      <td>0.0</td>\n",
       "      <td>0.0</td>\n",
       "      <td>0.0</td>\n",
       "      <td>0.0</td>\n",
       "      <td>0.0</td>\n",
       "      <td>0.0</td>\n",
       "      <td>0.0</td>\n",
       "      <td>0.0</td>\n",
       "    </tr>\n",
       "    <tr>\n",
       "      <th>4844</th>\n",
       "      <td>0.0</td>\n",
       "      <td>0.000000</td>\n",
       "      <td>0.0</td>\n",
       "      <td>0.0</td>\n",
       "      <td>0.0</td>\n",
       "      <td>0.0</td>\n",
       "      <td>0.0</td>\n",
       "      <td>0.0</td>\n",
       "      <td>0.0</td>\n",
       "      <td>0.0</td>\n",
       "      <td>...</td>\n",
       "      <td>0.0</td>\n",
       "      <td>0.0</td>\n",
       "      <td>0.0</td>\n",
       "      <td>0.0</td>\n",
       "      <td>0.0</td>\n",
       "      <td>0.0</td>\n",
       "      <td>0.0</td>\n",
       "      <td>0.0</td>\n",
       "      <td>0.0</td>\n",
       "      <td>0.0</td>\n",
       "    </tr>\n",
       "    <tr>\n",
       "      <th>4845</th>\n",
       "      <td>0.0</td>\n",
       "      <td>0.000000</td>\n",
       "      <td>0.0</td>\n",
       "      <td>0.0</td>\n",
       "      <td>0.0</td>\n",
       "      <td>0.0</td>\n",
       "      <td>0.0</td>\n",
       "      <td>0.0</td>\n",
       "      <td>0.0</td>\n",
       "      <td>0.0</td>\n",
       "      <td>...</td>\n",
       "      <td>0.0</td>\n",
       "      <td>0.0</td>\n",
       "      <td>0.0</td>\n",
       "      <td>0.0</td>\n",
       "      <td>0.0</td>\n",
       "      <td>0.0</td>\n",
       "      <td>0.0</td>\n",
       "      <td>0.0</td>\n",
       "      <td>0.0</td>\n",
       "      <td>0.0</td>\n",
       "    </tr>\n",
       "  </tbody>\n",
       "</table>\n",
       "<p>4846 rows × 10064 columns</p>\n",
       "</div>"
      ],
      "text/plain": [
       "       00       000  000063  002  0025  003  0030  007  008   01  ...  zero  \\\n",
       "0     0.0  0.000000     0.0  0.0   0.0  0.0   0.0  0.0  0.0  0.0  ...   0.0   \n",
       "1     0.0  0.147059     0.0  0.0   0.0  0.0   0.0  0.0  0.0  0.0  ...   0.0   \n",
       "2     0.0  0.000000     0.0  0.0   0.0  0.0   0.0  0.0  0.0  0.0  ...   0.0   \n",
       "3     0.0  0.000000     0.0  0.0   0.0  0.0   0.0  0.0  0.0  0.0  ...   0.0   \n",
       "4     0.0  0.000000     0.0  0.0   0.0  0.0   0.0  0.0  0.0  0.0  ...   0.0   \n",
       "...   ...       ...     ...  ...   ...  ...   ...  ...  ...  ...  ...   ...   \n",
       "4841  0.0  0.000000     0.0  0.0   0.0  0.0   0.0  0.0  0.0  0.0  ...   0.0   \n",
       "4842  0.0  0.000000     0.0  0.0   0.0  0.0   0.0  0.0  0.0  0.0  ...   0.0   \n",
       "4843  0.0  0.000000     0.0  0.0   0.0  0.0   0.0  0.0  0.0  0.0  ...   0.0   \n",
       "4844  0.0  0.000000     0.0  0.0   0.0  0.0   0.0  0.0  0.0  0.0  ...   0.0   \n",
       "4845  0.0  0.000000     0.0  0.0   0.0  0.0   0.0  0.0  0.0  0.0  ...   0.0   \n",
       "\n",
       "      zgody  zinc  zip  zloty  zoltan  zone  zoo  zte   zu  \n",
       "0       0.0   0.0  0.0    0.0     0.0   0.0  0.0  0.0  0.0  \n",
       "1       0.0   0.0  0.0    0.0     0.0   0.0  0.0  0.0  0.0  \n",
       "2       0.0   0.0  0.0    0.0     0.0   0.0  0.0  0.0  0.0  \n",
       "3       0.0   0.0  0.0    0.0     0.0   0.0  0.0  0.0  0.0  \n",
       "4       0.0   0.0  0.0    0.0     0.0   0.0  0.0  0.0  0.0  \n",
       "...     ...   ...  ...    ...     ...   ...  ...  ...  ...  \n",
       "4841    0.0   0.0  0.0    0.0     0.0   0.0  0.0  0.0  0.0  \n",
       "4842    0.0   0.0  0.0    0.0     0.0   0.0  0.0  0.0  0.0  \n",
       "4843    0.0   0.0  0.0    0.0     0.0   0.0  0.0  0.0  0.0  \n",
       "4844    0.0   0.0  0.0    0.0     0.0   0.0  0.0  0.0  0.0  \n",
       "4845    0.0   0.0  0.0    0.0     0.0   0.0  0.0  0.0  0.0  \n",
       "\n",
       "[4846 rows x 10064 columns]"
      ]
     },
     "execution_count": 4,
     "metadata": {},
     "output_type": "execute_result"
    }
   ],
   "source": [
    "final = pd.DataFrame(X.todense(),columns = vectorizer.get_feature_names())\n",
    "final"
   ]
  },
  {
   "cell_type": "code",
   "execution_count": 5,
   "id": "e14d533e",
   "metadata": {
    "scrolled": true
   },
   "outputs": [
    {
     "data": {
      "text/plain": [
       "00         4.970592\n",
       "000       36.129250\n",
       "000063     0.279671\n",
       "002        0.359944\n",
       "0025       0.232234\n",
       "            ...    \n",
       "zoltan     0.217377\n",
       "zone       1.767678\n",
       "zoo        0.233001\n",
       "zte        0.279671\n",
       "zu         0.207245\n",
       "Length: 10064, dtype: float64"
      ]
     },
     "execution_count": 5,
     "metadata": {},
     "output_type": "execute_result"
    }
   ],
   "source": [
    "final.sum()"
   ]
  },
  {
   "cell_type": "markdown",
   "id": "396cf723",
   "metadata": {},
   "source": [
    "# Data Cleaning"
   ]
  },
  {
   "cell_type": "code",
   "execution_count": 6,
   "id": "a50238b8",
   "metadata": {},
   "outputs": [],
   "source": [
    "final = final.drop(final.columns[final.sum() < 0.5], axis=1)\n",
    "#final['Sentiment'] = Doc[0]"
   ]
  },
  {
   "cell_type": "code",
   "execution_count": 7,
   "id": "afa6567f",
   "metadata": {},
   "outputs": [],
   "source": [
    "all_inputs = final[final.columns].values"
   ]
  },
  {
   "cell_type": "code",
   "execution_count": 8,
   "id": "a85cbf83",
   "metadata": {},
   "outputs": [],
   "source": [
    "all_labels = Doc[0].values"
   ]
  },
  {
   "cell_type": "markdown",
   "id": "850511ab",
   "metadata": {},
   "source": [
    "# Model application\n",
    "\n",
    "## Model 1 - Decision Tree Classifier"
   ]
  },
  {
   "cell_type": "code",
   "execution_count": 9,
   "id": "56404318",
   "metadata": {},
   "outputs": [],
   "source": [
    "from sklearn.model_selection import train_test_split\n",
    "\n",
    "(training_inputs,\n",
    " testing_inputs,\n",
    " training_classes,\n",
    " testing_classes) = train_test_split(all_inputs, all_labels, test_size=0.2, random_state = True)"
   ]
  },
  {
   "cell_type": "code",
   "execution_count": 10,
   "id": "dec47df9",
   "metadata": {},
   "outputs": [],
   "source": [
    "from sklearn import tree\n",
    "classifier = tree.DecisionTreeClassifier()"
   ]
  },
  {
   "cell_type": "code",
   "execution_count": 11,
   "id": "6f951f5c",
   "metadata": {},
   "outputs": [
    {
     "data": {
      "text/plain": [
       "0.677319587628866"
      ]
     },
     "execution_count": 11,
     "metadata": {},
     "output_type": "execute_result"
    }
   ],
   "source": [
    "classifier.fit(training_inputs, training_classes)\n",
    "classifier.score(testing_inputs, testing_classes)"
   ]
  },
  {
   "cell_type": "markdown",
   "id": "44ebd4c9",
   "metadata": {},
   "source": [
    "## Model 2 - Classification using Neural Networks"
   ]
  },
  {
   "cell_type": "code",
   "execution_count": 12,
   "id": "fcfa5349",
   "metadata": {},
   "outputs": [],
   "source": [
    "import pandas\n",
    "from keras.models import Sequential\n",
    "from keras.layers import Dense\n",
    "from keras.wrappers.scikit_learn import KerasClassifier\n",
    "from keras.utils import np_utils\n",
    "from sklearn.model_selection import cross_val_score\n",
    "from sklearn.model_selection import KFold\n",
    "from sklearn.preprocessing import LabelEncoder\n",
    "from sklearn.pipeline import Pipeline\n",
    "from sklearn.model_selection import train_test_split"
   ]
  },
  {
   "cell_type": "code",
   "execution_count": 13,
   "id": "277fa652",
   "metadata": {},
   "outputs": [],
   "source": [
    "encoder = LabelEncoder()\n",
    "encoder.fit(all_labels)\n",
    "encoded_Y = encoder.transform(all_labels)\n",
    "\n",
    "dummy_y = np_utils.to_categorical(encoded_Y)"
   ]
  },
  {
   "cell_type": "code",
   "execution_count": 14,
   "id": "75fdce15",
   "metadata": {},
   "outputs": [],
   "source": [
    "model = Sequential()\n",
    "model.add(Dense(64, input_dim=all_inputs.shape[1], activation='relu'))\n",
    "model.add(Dense(8, activation='relu'))\n",
    "model.add(Dense(8, activation='relu'))\n",
    "model.add(Dense(3, activation='softmax'))\n",
    "model.compile(loss='categorical_crossentropy', optimizer='adam', metrics=['accuracy'])"
   ]
  },
  {
   "cell_type": "code",
   "execution_count": 15,
   "id": "855379a0",
   "metadata": {},
   "outputs": [],
   "source": [
    "X_train, X_test, y_train, y_test = train_test_split(all_inputs,dummy_y, test_size=0.2,shuffle = True)"
   ]
  },
  {
   "cell_type": "code",
   "execution_count": 16,
   "id": "d343bc46",
   "metadata": {},
   "outputs": [
    {
     "name": "stdout",
     "output_type": "stream",
     "text": [
      "Epoch 1/30\n",
      "122/122 [==============================] - 1s 2ms/step - loss: 0.9110 - accuracy: 0.5872\n",
      "Epoch 2/30\n",
      "122/122 [==============================] - 0s 3ms/step - loss: 0.6831 - accuracy: 0.6760\n",
      "Epoch 3/30\n",
      "122/122 [==============================] - 0s 3ms/step - loss: 0.4416 - accuracy: 0.8385\n",
      "Epoch 4/30\n",
      "122/122 [==============================] - 0s 3ms/step - loss: 0.2374 - accuracy: 0.9301\n",
      "Epoch 5/30\n",
      "122/122 [==============================] - 0s 2ms/step - loss: 0.1196 - accuracy: 0.9719\n",
      "Epoch 6/30\n",
      "122/122 [==============================] - 0s 2ms/step - loss: 0.0654 - accuracy: 0.9876\n",
      "Epoch 7/30\n",
      "122/122 [==============================] - 0s 3ms/step - loss: 0.0394 - accuracy: 0.9920\n",
      "Epoch 8/30\n",
      "122/122 [==============================] - 0s 3ms/step - loss: 0.0264 - accuracy: 0.9954\n",
      "Epoch 9/30\n",
      "122/122 [==============================] - 0s 3ms/step - loss: 0.0200 - accuracy: 0.9964\n",
      "Epoch 10/30\n",
      "122/122 [==============================] - 0s 3ms/step - loss: 0.0166 - accuracy: 0.9966\n",
      "Epoch 11/30\n",
      "122/122 [==============================] - 0s 3ms/step - loss: 0.0142 - accuracy: 0.9964\n",
      "Epoch 12/30\n",
      "122/122 [==============================] - 0s 3ms/step - loss: 0.0110 - accuracy: 0.9972\n",
      "Epoch 13/30\n",
      "122/122 [==============================] - 0s 3ms/step - loss: 0.0095 - accuracy: 0.9972\n",
      "Epoch 14/30\n",
      "122/122 [==============================] - 0s 3ms/step - loss: 0.0070 - accuracy: 0.9982\n",
      "Epoch 15/30\n",
      "122/122 [==============================] - 0s 2ms/step - loss: 0.0090 - accuracy: 0.9974\n",
      "Epoch 16/30\n",
      "122/122 [==============================] - 0s 2ms/step - loss: 0.0077 - accuracy: 0.9977\n",
      "Epoch 17/30\n",
      "122/122 [==============================] - 0s 2ms/step - loss: 0.0066 - accuracy: 0.9985\n",
      "Epoch 18/30\n",
      "122/122 [==============================] - 0s 2ms/step - loss: 0.0055 - accuracy: 0.9982\n",
      "Epoch 19/30\n",
      "122/122 [==============================] - 0s 3ms/step - loss: 0.0050 - accuracy: 0.9982\n",
      "Epoch 20/30\n",
      "122/122 [==============================] - 0s 2ms/step - loss: 0.0049 - accuracy: 0.9987\n",
      "Epoch 21/30\n",
      "122/122 [==============================] - 0s 2ms/step - loss: 0.0053 - accuracy: 0.9982\n",
      "Epoch 22/30\n",
      "122/122 [==============================] - 0s 3ms/step - loss: 0.0053 - accuracy: 0.9985\n",
      "Epoch 23/30\n",
      "122/122 [==============================] - 0s 4ms/step - loss: 0.0049 - accuracy: 0.9987\n",
      "Epoch 24/30\n",
      "122/122 [==============================] - 0s 3ms/step - loss: 0.0042 - accuracy: 0.9987\n",
      "Epoch 25/30\n",
      "122/122 [==============================] - 0s 2ms/step - loss: 0.0045 - accuracy: 0.9985\n",
      "Epoch 26/30\n",
      "122/122 [==============================] - 0s 2ms/step - loss: 0.0042 - accuracy: 0.9990\n",
      "Epoch 27/30\n",
      "122/122 [==============================] - 0s 2ms/step - loss: 0.0050 - accuracy: 0.9982\n",
      "Epoch 28/30\n",
      "122/122 [==============================] - 0s 2ms/step - loss: 0.0049 - accuracy: 0.9982\n",
      "Epoch 29/30\n",
      "122/122 [==============================] - 0s 2ms/step - loss: 0.0048 - accuracy: 0.9987\n",
      "Epoch 30/30\n",
      "122/122 [==============================] - 0s 2ms/step - loss: 0.0036 - accuracy: 0.9990\n"
     ]
    },
    {
     "data": {
      "text/plain": [
       "<keras.callbacks.History at 0x7feebf5f5520>"
      ]
     },
     "execution_count": 16,
     "metadata": {},
     "output_type": "execute_result"
    }
   ],
   "source": [
    "model.fit(X_train, y_train, epochs=30)"
   ]
  },
  {
   "cell_type": "code",
   "execution_count": 17,
   "id": "9f182e14",
   "metadata": {},
   "outputs": [
    {
     "name": "stdout",
     "output_type": "stream",
     "text": [
      "Accuracy on training data: 0.9994840025901794 \n",
      " Error on training data: 0.0005159974098205566\n",
      "Accuracy on test data: 0.7360824942588806 \n",
      " Error on test data: 0.2639175057411194\n"
     ]
    }
   ],
   "source": [
    "pred_train = model.predict(X_train)\n",
    "scores = model.evaluate(X_train, y_train, verbose=0)\n",
    "print('Accuracy on training data: {} \\n Error on training data: {}'.format(scores[1], 1 - scores[1]))   \n",
    " \n",
    "pred_test= model.predict(X_test)\n",
    "scores2 = model.evaluate(X_test, y_test, verbose=0)\n",
    "print('Accuracy on test data: {} \\n Error on test data: {}'.format(scores2[1], 1 - scores2[1]))   "
   ]
  }
 ],
 "metadata": {
  "kernelspec": {
   "display_name": "Python 3",
   "language": "python",
   "name": "python3"
  },
  "language_info": {
   "codemirror_mode": {
    "name": "ipython",
    "version": 3
   },
   "file_extension": ".py",
   "mimetype": "text/x-python",
   "name": "python",
   "nbconvert_exporter": "python",
   "pygments_lexer": "ipython3",
   "version": "3.8.8"
  }
 },
 "nbformat": 4,
 "nbformat_minor": 5
}
