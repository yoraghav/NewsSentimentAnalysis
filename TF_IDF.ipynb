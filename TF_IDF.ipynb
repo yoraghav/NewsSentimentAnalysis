{
 "cells": [
  {
   "cell_type": "code",
   "execution_count": 0,
   "metadata": {
    "colab": {},
    "colab_type": "code",
    "id": "JTboYymE6r6O"
   },
   "outputs": [],
   "source": [
    "from sklearn.feature_extraction.text import TfidfVectorizer"
   ]
  },
  {
   "cell_type": "code",
   "execution_count": 10,
   "metadata": {
    "colab": {
     "base_uri": "https://localhost:8080/",
     "height": 34
    },
    "colab_type": "code",
    "id": "fZkBXkjh7Auw",
    "outputId": "5502cd61-2054-4f26-e0ae-22b581e1e0ea"
   },
   "outputs": [
    {
     "name": "stdout",
     "output_type": "stream",
     "text": [
      "['It is going to rain today.', 'Today I am not going outside.', 'I am going to watch the season premiere.']\n"
     ]
    }
   ],
   "source": [
    "Document1= \"It is going to rain today.\"\n",
    "Document2= \"Today I am not going outside.\"\n",
    "Document3= \"I am going to watch the season premiere.\"\n",
    "Doc = [Document1 ,\n",
    "       Document2 , \n",
    "       Document3]\n",
    "print(Doc)"
   ]
  },
  {
   "cell_type": "code",
   "execution_count": 0,
   "metadata": {
    "colab": {},
    "colab_type": "code",
    "id": "OPmNLcu67F5Y"
   },
   "outputs": [],
   "source": [
    "vectorizer = TfidfVectorizer()"
   ]
  },
  {
   "cell_type": "code",
   "execution_count": 0,
   "metadata": {
    "colab": {},
    "colab_type": "code",
    "id": "8nGWJKE89sx5"
   },
   "outputs": [],
   "source": [
    "X = vectorizer.fit_transform(Doc)"
   ]
  },
  {
   "cell_type": "code",
   "execution_count": 34,
   "metadata": {
    "colab": {
     "base_uri": "https://localhost:8080/",
     "height": 221
    },
    "colab_type": "code",
    "id": "stmzAJ4QEpe-",
    "outputId": "96cd11d8-d982-401f-c5e8-313d089c9c1d"
   },
   "outputs": [
    {
     "name": "stdout",
     "output_type": "stream",
     "text": [
      "Document 1 ['it', 'is', 'going', 'to', 'rain', 'today']\n",
      "Document 2 ['today', 'am', 'not', 'going', 'outside']\n",
      "Document 3 ['am', 'going', 'to', 'watch', 'the', 'season', 'premiere']\n",
      "Document transform [[0.         0.27824521 0.4711101  0.4711101  0.         0.\n",
      "  0.         0.4711101  0.         0.         0.35829137 0.35829137\n",
      "  0.        ]\n",
      " [0.40619178 0.31544415 0.         0.         0.53409337 0.53409337\n",
      "  0.         0.         0.         0.         0.         0.40619178\n",
      "  0.        ]\n",
      " [0.32412354 0.25171084 0.         0.         0.         0.\n",
      "  0.4261835  0.         0.4261835  0.4261835  0.32412354 0.\n",
      "  0.4261835 ]]\n"
     ]
    }
   ],
   "source": [
    "analyze = vectorizer.build_analyzer()\n",
    "\n",
    "print('Document 1',analyze(Document1))\n",
    "\n",
    "print('Document 2',analyze(Document2))\n",
    "\n",
    "print('Document 3',analyze(Document3))\n",
    "\n",
    "print('Document transform',X.toarray())\n"
   ]
  },
  {
   "cell_type": "code",
   "execution_count": 15,
   "metadata": {
    "colab": {
     "base_uri": "https://localhost:8080/",
     "height": 34
    },
    "colab_type": "code",
    "id": "JW2Y1nXN9wuS",
    "outputId": "e7e3638d-a5db-441a-9e90-268b13429f89"
   },
   "outputs": [
    {
     "name": "stdout",
     "output_type": "stream",
     "text": [
      "['am', 'going', 'is', 'it', 'not', 'outside', 'premiere', 'rain', 'season', 'the', 'to', 'today', 'watch']\n"
     ]
    }
   ],
   "source": [
    "print(vectorizer.get_feature_names())"
   ]
  },
  {
   "cell_type": "code",
   "execution_count": 0,
   "metadata": {
    "colab": {},
    "colab_type": "code",
    "id": "7N_6PrWm965E"
   },
   "outputs": [],
   "source": []
  }
 ],
 "metadata": {
  "colab": {
   "name": "TF-IDF.ipynb",
   "provenance": [],
   "version": "0.3.2"
  },
  "kernelspec": {
   "display_name": "Python 3",
   "language": "python",
   "name": "python3"
  },
  "language_info": {
   "codemirror_mode": {
    "name": "ipython",
    "version": 3
   },
   "file_extension": ".py",
   "mimetype": "text/x-python",
   "name": "python",
   "nbconvert_exporter": "python",
   "pygments_lexer": "ipython3",
   "version": "3.8.8"
  }
 },
 "nbformat": 4,
 "nbformat_minor": 1
}
